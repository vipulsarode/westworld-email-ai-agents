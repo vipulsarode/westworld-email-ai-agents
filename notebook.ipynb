{
 "cells": [
  {
   "cell_type": "code",
   "execution_count": 1,
   "metadata": {},
   "outputs": [],
   "source": [
    "import os\n",
    "from langchain_groq import ChatGroq"
   ]
  },
  {
   "cell_type": "code",
   "execution_count": 2,
   "metadata": {},
   "outputs": [],
   "source": [
    "GROQ_LLM = ChatGroq(api_key = os.getenv(\"GROQ_API_KEY\"), model = \"llama3-70b-8192\")"
   ]
  },
  {
   "cell_type": "code",
   "execution_count": null,
   "metadata": {},
   "outputs": [],
   "source": [
    "import json  # Import the JSON module to parse JSON strings\n",
    "from langchain_core.agents import AgentFinish\n",
    "\n",
    "agent_finishes  = []\n",
    "\n",
    "import json\n",
    "from typing import Union, List, Tuple, Dict\n",
    "from langchain.schema import AgentFinish\n",
    "\n",
    "call_number = 0\n",
    "\n",
    "def print_agent_output(agent_output: Union[str, List[Tuple[Dict, str]], AgentFinish], agent_name: str = 'Generic call'):\n",
    "    global call_number  # Declare call_number as a global variable\n",
    "    call_number += 1\n",
    "    with open(\"crew_callback_logs.txt\", \"a\") as log_file:\n",
    "        # Try to parse the output if it is a JSON string\n",
    "        if isinstance(agent_output, str):\n",
    "            try:\n",
    "                agent_output = json.loads(agent_output)  # Attempt to parse the JSON string\n",
    "            except json.JSONDecodeError:\n",
    "                pass  # If there's an error, leave agent_output as is\n",
    "\n",
    "        # Check if the output is a list of tuples as in the first case\n",
    "        if isinstance(agent_output, list) and all(isinstance(item, tuple) for item in agent_output):\n",
    "            print(f\"-{call_number}----Dict------------------------------------------\", file=log_file)\n",
    "            for action, description in agent_output:\n",
    "                # Print attributes based on assumed structure\n",
    "                print(f\"Agent Name: {agent_name}\", file=log_file)\n",
    "                print(f\"Tool used: {getattr(action, 'tool', 'Unknown')}\", file=log_file)\n",
    "                print(f\"Tool input: {getattr(action, 'tool_input', 'Unknown')}\", file=log_file)\n",
    "                print(f\"Action log: {getattr(action, 'log', 'Unknown')}\", file=log_file)\n",
    "                print(f\"Description: {description}\", file=log_file)\n",
    "                print(\"--------------------------------------------------\", file=log_file)\n",
    "\n",
    "        # Check if the output is a dictionary as in the second case\n",
    "        elif isinstance(agent_output, AgentFinish):\n",
    "            print(f\"-{call_number}----AgentFinish---------------------------------------\", file=log_file)\n",
    "            print(f\"Agent Name: {agent_name}\", file=log_file)\n",
    "            agent_finishes.append(agent_output)\n",
    "            # Extracting 'output' and 'log' from the nested 'return_values' if they exist\n",
    "            output = agent_output.return_values\n",
    "            # log = agent_output.get('log', 'No log available')\n",
    "            print(f\"AgentFinish Output: {output['output']}\", file=log_file)\n",
    "            # print(f\"Log: {log}\", file=log_file)\n",
    "            # print(f\"AgentFinish: {agent_output}\", file=log_file)\n",
    "            print(\"--------------------------------------------------\", file=log_file)\n",
    "\n",
    "        # Handle unexpected formats\n",
    "        else:\n",
    "            # If the format is unknown, print out the input directly\n",
    "            print(f\"-{call_number}-Unknown format of agent_output:\", file=log_file)\n",
    "            print(type(agent_output), file=log_file)\n",
    "            print(agent_output, file=log_file)\n"
   ]
  },
  {
   "cell_type": "code",
   "execution_count": 3,
   "metadata": {},
   "outputs": [],
   "source": [
    "from crewai import Crew, Agent, Task, Process\n",
    "from langchain_community.tools import DuckDuckGoSearchRun\n",
    "from datetime import datetime\n",
    "from random import randint\n",
    "from langchain.tools import tool\n",
    "import json\n",
    "import requests\n",
    "from langchain.agents import load_tools\n",
    "\n",
    "search_tool = DuckDuckGoSearchRun()"
   ]
  },
  {
   "cell_type": "code",
   "execution_count": 5,
   "metadata": {},
   "outputs": [
    {
     "data": {
      "text/plain": [
       "'Jesus (born c. 6-4 bce, Bethlehem—died c. 30 ce, Jerusalem) was a religious leader revered in Christianity, one of the world\\'s major religions.He is regarded by most Christians as the Incarnation of God. The history of Christian reflection on the teachings and nature of Jesus is examined in the article Christology.. Name and title Explore the identity of Jesus Christ based on the Bible, from His claims, prophecies, miracles, and resurrection. Learn how to know Jesus Christ as your Savior and Lord and the way to God. Check out this three hour marathon following the life of Jesus, from birth to betrayal. #JesusHisLifeSubscribe for more from The HISTORY Channel:http://histv... Jesus Is Peace. \"For to us a child is born, to us a son is given, and the government will be on his shoulders. And he will be called Wonderful Counselor, Mighty God, Everlasting Father, Prince of Peace\" ( Isaiah 9:6 ). For many of us, Isaiah 9:6 stirs memories of Christmas, and this is fitting for the prophecy proclaiming the birth of the ... Learn about Jesus Christ, the Son of God who became human and died for our sins. Find out what the Bible says about His identity, life, death, resurrection, and return.'"
      ]
     },
     "execution_count": 5,
     "metadata": {},
     "output_type": "execute_result"
    }
   ],
   "source": [
    "search_tool.run('jesus')"
   ]
  },
  {
   "cell_type": "code",
   "execution_count": null,
   "metadata": {},
   "outputs": [],
   "source": [
    "class EmailAgents():\n",
    "    def make_categorizing_agent(self):\n",
    "        return Agent(\n",
    "            role='Email Categorizing Agent',\n",
    "            goal = '''take in a email from a human that has emailed out company email address and categorize it \\\n",
    "            into one of the following categories: \\\n",
    "            price_equiry - used when someone is asking for information about pricing \\\n",
    "            customer_complaint - used when someone is complaining about something \\\n",
    "            product_enquiry - used when someone is asking for information about a product feature, benefit or service but not about pricing \\\\\n",
    "            customer_feedback - used when someone is giving feedback about a product \\\n",
    "            off_topic when it doesnt relate to any other category''',\n",
    "            backstory = '''You are a master at understanding what a customer wants when they write an email and are able to categorize it in a useful way''',\n",
    "            llm = GROQ_LLM,\n",
    "            verbose = True,\n",
    "            allow_delegation = False,\n",
    "            max_iter = 5,\n",
    "            memory = True,\n",
    "            step_callback = lambda x: print_agent_output(x, 'Email Categorizing Agent')\n",
    "        )\n",
    "    \n",
    "    def make_researcher_agent(self):\n",
    "        return Agent(\n",
    "            role = \"Information Researcher Agent\",\n",
    "            goal = \"\"\"take in a email from a human that has emailed out company email address and the category \\\n",
    "            that the categorizer agent gave it and decide what information you need to search for for the email writer to reply to \\\n",
    "            the email in a thoughtful and helpful way.\n",
    "            If you DONT think a search will help just reply 'NO SEARCH NEEDED'\n",
    "            If you dont find any useful info just reply 'NO USEFUL RESESARCH FOUND'\n",
    "            otherwise reply with the info you found that is useful for the email writer\"\"\",\n",
    "            backstory = ''' '''\n",
    "            llm = GROQ_LLM,\n",
    "            verbose = True,\n",
    "            allow_delegation = False,\n",
    "            max_iter = 5,\n",
    "            memory = True,\n",
    "            step_callback = lambda x: print_agent_output(x, 'Information Researcher Agent')\n",
    "\n",
    "        )\n",
    "    \n",
    "    def make_email_writer_agent(self):\n",
    "        return Agent(\n",
    "            role = \"Email Writer Agent\",\n",
    "            goal = '''take in a email from a human that has emailed out company email address, the category \\\n",
    "            that the categorizer agent gave it and the research from the research agent and \\\n",
    "            write a helpful email in a thoughtful and friendly way.\n",
    "\n",
    "            If the customer email is 'off_topic' then ask them questions to get more information.\n",
    "            If the customer email is 'customer_complaint' then try to assure we value them and that we are addressing their issues.\n",
    "            If the customer email is 'customer_feedback' then try to assure we value them and that we are addressing their issues.\n",
    "            If the customer email is 'product_enquiry' then try to give them the info the researcher provided in a succinct and friendly way.\n",
    "            If the customer email is 'price_equiry' then try to give the pricing info they requested.\n",
    "\n",
    "            You never make up information. that hasn't been provided by the researcher or in the email.\n",
    "            Always sign off the emails in appropriate manner and from Sarah the Resident Manager. ''',\n",
    "            backstory = '''You are a master at synthesizing a variety of information and writing a helpful email \\\n",
    "            that will address the customer's issues and provide them with helpful information''',\n",
    "            llm = GROQ_LLM,\n",
    "            verbose = True,\n",
    "            max_iter = 5,\n",
    "            memory = True,\n",
    "            allow_delegation = False,\n",
    "            step_callback = lambda x: print_agent_output(x, 'Email Writer Agent')\n",
    "        )\n",
    "        \n",
    "\n"
   ]
  },
  {
   "cell_type": "code",
   "execution_count": null,
   "metadata": {},
   "outputs": [],
   "source": []
  }
 ],
 "metadata": {
  "kernelspec": {
   "display_name": "Python 3",
   "language": "python",
   "name": "python3"
  },
  "language_info": {
   "codemirror_mode": {
    "name": "ipython",
    "version": 3
   },
   "file_extension": ".py",
   "mimetype": "text/x-python",
   "name": "python",
   "nbconvert_exporter": "python",
   "pygments_lexer": "ipython3",
   "version": "3.10.0"
  }
 },
 "nbformat": 4,
 "nbformat_minor": 2
}
